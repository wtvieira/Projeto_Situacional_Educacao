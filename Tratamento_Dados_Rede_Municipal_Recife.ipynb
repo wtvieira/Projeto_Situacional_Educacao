{
  "nbformat": 4,
  "nbformat_minor": 0,
  "metadata": {
    "colab": {
      "provenance": [],
      "authorship_tag": "ABX9TyP8qirLhGMfADD0mCeY4ILJ",
      "include_colab_link": true
    },
    "kernelspec": {
      "name": "python3",
      "display_name": "Python 3"
    },
    "language_info": {
      "name": "python"
    }
  },
  "cells": [
    {
      "cell_type": "markdown",
      "metadata": {
        "id": "view-in-github",
        "colab_type": "text"
      },
      "source": [
        "<a href=\"https://colab.research.google.com/github/wtvieira/Projeto_Situacional_Educacao/blob/main/Tratamento_Dados_Rede_Municipal_Recife.ipynb\" target=\"_parent\"><img src=\"https://colab.research.google.com/assets/colab-badge.svg\" alt=\"Open In Colab\"/></a>"
      ]
    },
    {
      "cell_type": "code",
      "execution_count": 7,
      "metadata": {
        "id": "JZlUxOw_Kw1w",
        "colab": {
          "base_uri": "https://localhost:8080/",
          "height": 254
        },
        "outputId": "ffb6359b-c7eb-483b-c8e4-b9308981af5e"
      },
      "outputs": [
        {
          "output_type": "stream",
          "name": "stdout",
          "text": [
            "Requirement already satisfied: pyspark in /usr/local/lib/python3.10/dist-packages (3.5.1)\n",
            "Requirement already satisfied: py4j==0.10.9.7 in /usr/local/lib/python3.10/dist-packages (from pyspark) (0.10.9.7)\n"
          ]
        },
        {
          "output_type": "execute_result",
          "data": {
            "text/plain": [
              "<pyspark.sql.session.SparkSession at 0x7f028ee0a590>"
            ],
            "text/html": [
              "\n",
              "            <div>\n",
              "                <p><b>SparkSession - in-memory</b></p>\n",
              "                \n",
              "        <div>\n",
              "            <p><b>SparkContext</b></p>\n",
              "\n",
              "            <p><a href=\"http://7be44d1a4594:4040\">Spark UI</a></p>\n",
              "\n",
              "            <dl>\n",
              "              <dt>Version</dt>\n",
              "                <dd><code>v3.5.1</code></dd>\n",
              "              <dt>Master</dt>\n",
              "                <dd><code>local[*]</code></dd>\n",
              "              <dt>AppName</dt>\n",
              "                <dd><code>pyspark-shell</code></dd>\n",
              "            </dl>\n",
              "        </div>\n",
              "        \n",
              "            </div>\n",
              "        "
            ]
          },
          "metadata": {},
          "execution_count": 7
        }
      ],
      "source": [
        "!pip install pyspark\n",
        "# importar SparkSession\n",
        "from pyspark.sql import SparkSession\n",
        "\n",
        "# criar SparkSession\n",
        "spark = SparkSession.builder.master(\"local[*]\").getOrCreate()\n",
        "\n",
        "# checar SparkSession\n",
        "spark"
      ]
    },
    {
      "cell_type": "code",
      "source": [
        "#Conexão com os arquivos base no Google Drive\n",
        "from google.colab import drive\n",
        "drive.mount('/content/drive')"
      ],
      "metadata": {
        "colab": {
          "base_uri": "https://localhost:8080/"
        },
        "id": "0rJH0m08E9yz",
        "outputId": "05f7372a-0ec6-4ee9-a2ed-665963038764"
      },
      "execution_count": 8,
      "outputs": [
        {
          "output_type": "stream",
          "name": "stdout",
          "text": [
            "Drive already mounted at /content/drive; to attempt to forcibly remount, call drive.mount(\"/content/drive\", force_remount=True).\n"
          ]
        }
      ]
    },
    {
      "cell_type": "code",
      "source": [
        "# ler base de dados\n",
        "#Base de Informações das Escolas\n",
        "df_Info_Escolas_Original = spark.read.csv(\"/content/drive/MyDrive/Projeto_Situacional_Educacao/info_escolas_2023_27122023.csv\",\n",
        "                    header=True,\n",
        "                    inferSchema = True,\n",
        "                    sep = \";\")\n",
        "df_Info_Escolas_Original.show(5)\n",
        "#Base de Informações dos Alunos\n",
        "df_Info_Alunos_Original = spark.read.csv(\"/content/drive/MyDrive/Projeto_Situacional_Educacao/situacaofinalalunos2023_22122023.csv\",\n",
        "                    header=True,\n",
        "                    inferSchema = True,\n",
        "                    sep = \";\")\n",
        "df_Info_Alunos_Original.show(5)"
      ],
      "metadata": {
        "id": "OzrDpYqfL2sK",
        "colab": {
          "base_uri": "https://localhost:8080/"
        },
        "outputId": "8763a4c0-8f9d-4866-ac60-552ebbcecb6f"
      },
      "execution_count": 36,
      "outputs": [
        {
          "output_type": "stream",
          "name": "stdout",
          "text": [
            "+---+--------+----------------+----------+--------------------+--------+------------------+------+----------+------------------+--------+----------+----------+---------------+------------------+-----------+--------------+-----------------+----------+------------+--------------------+---------+--------+\n",
            "|rpa|tipo_cod|            tipo|cod_escola|              escola|    inep|               rua|numero|cod_bairro|            bairro|metragem|qtd_alunos|qtd_turmas|qtd_professores|escola_climatizada|data_visita|quadra_coberta|quadra_descoberta|biblioteca|sala_recurso|              gestor|longitude|latitude|\n",
            "+---+--------+----------------+----------+--------------------+--------+------------------+------+----------+------------------+--------+----------+----------+---------------+------------------+-----------+--------------+-----------------+----------+------------+--------------------+---------+--------+\n",
            "|  1|       1|ESCOLA MUNICIPAL|        90|ALMIRANTE SOARES ...|26120658|         CAMUTANGA|   180|        51|           CABANGA|   764,3|       429|        18|             13|               SIM| 27/02/2018|           NÃO|              NÃO|       SIM|         SIM| VERONICA MARIA LIMA|-34.89535|-8.07895|\n",
            "|  1|       1|ESCOLA MUNICIPAL|       289|CIDADAO HERBERT D...|26121972|   ARNOBIO MARQUES|   310|       108|       SANTO AMARO|     206|       163|        12|             11|               NÂO|       NULL|           NÃO|              NÃO|       NÃO|         SIM|ANA CLAUDIA DO NA...|-34.88707|-8.04576|\n",
            "|  1|       1|ESCOLA MUNICIPAL|       256|            DO COQUE|26122898|      MIRANDOPOLIS|    35|        43|ILHA JOANA BEZERRA|   840,5|       622|        26|             18|               NÂO|       NULL|           NÃO|              NÃO|       SIM|         SIM|GRIJALBA MARIA PE...|-34.90022|-8.07145|\n",
            "|  1|       1|ESCOLA MUNICIPAL|        91|         DOS COELHOS|26118670|       DOS COELHOS|   591|        60|           COELHOS|    1322|       730|        35|             24|               NÂO|       NULL|           NÃO|              NÃO|       SIM|         SIM|FRANCISCA ANGELA ...|-34.89097|-8.06876|\n",
            "|  1|       1|ESCOLA MUNICIPAL|       384|   FREI TADEU GLASER|26175347|AGAMENON MAGALHAES|   600|       108|       SANTO AMARO|   398,4|       130|         8|              7|               NÂO| 19/04/2017|           NÃO|              NÃO|       SIM|         SIM|CHRISTIANNE MARIA...|-34.87818|-8.04006|\n",
            "+---+--------+----------------+----------+--------------------+--------+------------------+------+----------+------------------+--------+----------+----------+---------------+------------------+-----------+--------------+-----------------+----------+------------+--------------------+---------+--------+\n",
            "only showing top 5 rows\n",
            "\n",
            "+----+------------+----------+------------+----------+----------+------+-------+---------+----------+------------------+-----+----------+--------+----------+----------+-----+----+--------------------+\n",
            "| ANO|  NESCOLNOME|EBAIRRNOME|  EESCOLRUAE|AESCOLNUME|CESCOLRPAE|MODENS|COMPENS|ANOENSINO|ESERMODESC|        NMODENNOME|TURMA|NTURESNOME|     MAT|CALUNOSEXO|DALUNONASC|IDADE|SITU|          ESITALDESC|\n",
            "+----+------------+----------+------------+----------+----------+------+-------+---------+----------+------------------+-----+----------+--------+----------+----------+-----+----+--------------------+\n",
            "|2023|ABILIO GOMES|BOA VIAGEM|BRUNO VELOZO|       S/N|         6|     1|      0|   1º ANO|    1º ANO|ENSINO FUNDAMENTAL|    A|     MANHÃ|21646589|         M|10/05/2016|    7|  TA|   TR DUR ANO P/REDE|\n",
            "|2023|ABILIO GOMES|BOA VIAGEM|BRUNO VELOZO|       S/N|         6|     1|      0|   1º ANO|    1º ANO|ENSINO FUNDAMENTAL|    B|     MANHÃ|19979797|         F|27/06/2015|    8|  TA|   TR DUR ANO P/REDE|\n",
            "|2023|ABILIO GOMES|BOA VIAGEM|BRUNO VELOZO|       S/N|         6|     1|      1|   2º ANO|    2º ANO|ENSINO FUNDAMENTAL|    A|     MANHÃ|21097186|         F|13/02/2016|    7|  MO|          REMANEJADO|\n",
            "|2023|ABILIO GOMES|BOA VIAGEM|BRUNO VELOZO|       S/N|         6|     1|      1|   2º ANO|    2º ANO|ENSINO FUNDAMENTAL|    A|     MANHÃ|20689047|         F|01/03/2016|    7|  TR|TR DUR ANO FORA REDE|\n",
            "|2023|ABILIO GOMES|BOA VIAGEM|BRUNO VELOZO|       S/N|         6|     1|      1|   2º ANO|    2º ANO|ENSINO FUNDAMENTAL|    B|     TARDE|21025258|         M|14/01/2016|    7|  MO|          REMANEJADO|\n",
            "+----+------------+----------+------------+----------+----------+------+-------+---------+----------+------------------+-----+----------+--------+----------+----------+-----+----+--------------------+\n",
            "only showing top 5 rows\n",
            "\n"
          ]
        }
      ]
    },
    {
      "cell_type": "code",
      "source": [
        "df_Info_Escolas_Original.printSchema()"
      ],
      "metadata": {
        "colab": {
          "base_uri": "https://localhost:8080/"
        },
        "id": "d38KlY09q2pU",
        "outputId": "1ebeb12c-9e8b-490b-e8a1-220369134f1c"
      },
      "execution_count": 37,
      "outputs": [
        {
          "output_type": "stream",
          "name": "stdout",
          "text": [
            "root\n",
            " |-- rpa: integer (nullable = true)\n",
            " |-- tipo_cod: integer (nullable = true)\n",
            " |-- tipo: string (nullable = true)\n",
            " |-- cod_escola: integer (nullable = true)\n",
            " |-- escola: string (nullable = true)\n",
            " |-- inep: integer (nullable = true)\n",
            " |-- rua: string (nullable = true)\n",
            " |-- numero: string (nullable = true)\n",
            " |-- cod_bairro: integer (nullable = true)\n",
            " |-- bairro: string (nullable = true)\n",
            " |-- metragem: string (nullable = true)\n",
            " |-- qtd_alunos: integer (nullable = true)\n",
            " |-- qtd_turmas: integer (nullable = true)\n",
            " |-- qtd_professores: integer (nullable = true)\n",
            " |-- escola_climatizada: string (nullable = true)\n",
            " |-- data_visita: string (nullable = true)\n",
            " |-- quadra_coberta: string (nullable = true)\n",
            " |-- quadra_descoberta: string (nullable = true)\n",
            " |-- biblioteca: string (nullable = true)\n",
            " |-- sala_recurso: string (nullable = true)\n",
            " |-- gestor: string (nullable = true)\n",
            " |-- longitude: double (nullable = true)\n",
            " |-- latitude: double (nullable = true)\n",
            "\n"
          ]
        }
      ]
    },
    {
      "cell_type": "code",
      "source": [
        "#LIMPANDO A BASE DE DADOS base_Info_Escolas_Original\n",
        "df_Info_Escolas = df_Info_Escolas_Original.select(\"rpa\", \"tipo_cod\", \"tipo\", \"cod_escola\", \"escola\", \"inep\", \"qtd_alunos\", \"qtd_turmas\", \"qtd_professores\", \"longitude\", \"latitude\")\n",
        "df_Info_Escolas.show(5)"
      ],
      "metadata": {
        "colab": {
          "base_uri": "https://localhost:8080/"
        },
        "id": "7-Uo4jFnoXX9",
        "outputId": "23f882fb-a742-46d0-a69c-529b016d9f54"
      },
      "execution_count": 38,
      "outputs": [
        {
          "output_type": "stream",
          "name": "stdout",
          "text": [
            "+---+--------+----------------+----------+--------------------+--------+----------+----------+---------------+---------+--------+\n",
            "|rpa|tipo_cod|            tipo|cod_escola|              escola|    inep|qtd_alunos|qtd_turmas|qtd_professores|longitude|latitude|\n",
            "+---+--------+----------------+----------+--------------------+--------+----------+----------+---------------+---------+--------+\n",
            "|  1|       1|ESCOLA MUNICIPAL|        90|ALMIRANTE SOARES ...|26120658|       429|        18|             13|-34.89535|-8.07895|\n",
            "|  1|       1|ESCOLA MUNICIPAL|       289|CIDADAO HERBERT D...|26121972|       163|        12|             11|-34.88707|-8.04576|\n",
            "|  1|       1|ESCOLA MUNICIPAL|       256|            DO COQUE|26122898|       622|        26|             18|-34.90022|-8.07145|\n",
            "|  1|       1|ESCOLA MUNICIPAL|        91|         DOS COELHOS|26118670|       730|        35|             24|-34.89097|-8.06876|\n",
            "|  1|       1|ESCOLA MUNICIPAL|       384|   FREI TADEU GLASER|26175347|       130|         8|              7|-34.87818|-8.04006|\n",
            "+---+--------+----------------+----------+--------------------+--------+----------+----------+---------------+---------+--------+\n",
            "only showing top 5 rows\n",
            "\n"
          ]
        }
      ]
    },
    {
      "cell_type": "code",
      "source": [
        "#SINCRONIZANDO O NOME DA COLUNA COM\n",
        "df_Info_Escolas = df_Info_Escolas.withColumnRenamed(\"escola\",\"NESCOLNOME\")\n",
        "df_Info_Escolas.show(5)"
      ],
      "metadata": {
        "colab": {
          "base_uri": "https://localhost:8080/"
        },
        "id": "Lwo-USgSr5qe",
        "outputId": "3551b67c-facd-4bf0-c2be-d1127540041e"
      },
      "execution_count": 41,
      "outputs": [
        {
          "output_type": "stream",
          "name": "stdout",
          "text": [
            "+---+--------+----------------+----------+--------------------+--------+----------+----------+---------------+---------+--------+\n",
            "|rpa|tipo_cod|            tipo|cod_escola|          NESCOLNOME|    inep|qtd_alunos|qtd_turmas|qtd_professores|longitude|latitude|\n",
            "+---+--------+----------------+----------+--------------------+--------+----------+----------+---------------+---------+--------+\n",
            "|  1|       1|ESCOLA MUNICIPAL|        90|ALMIRANTE SOARES ...|26120658|       429|        18|             13|-34.89535|-8.07895|\n",
            "|  1|       1|ESCOLA MUNICIPAL|       289|CIDADAO HERBERT D...|26121972|       163|        12|             11|-34.88707|-8.04576|\n",
            "|  1|       1|ESCOLA MUNICIPAL|       256|            DO COQUE|26122898|       622|        26|             18|-34.90022|-8.07145|\n",
            "|  1|       1|ESCOLA MUNICIPAL|        91|         DOS COELHOS|26118670|       730|        35|             24|-34.89097|-8.06876|\n",
            "|  1|       1|ESCOLA MUNICIPAL|       384|   FREI TADEU GLASER|26175347|       130|         8|              7|-34.87818|-8.04006|\n",
            "+---+--------+----------------+----------+--------------------+--------+----------+----------+---------------+---------+--------+\n",
            "only showing top 5 rows\n",
            "\n"
          ]
        }
      ]
    },
    {
      "cell_type": "code",
      "source": [
        "#VERIFICAÇÃO DE LIGAÇÃO ENTRE AS DUAS BASES\n",
        "\n",
        "#IMPORTAÇÃO DE BIBLIOTECA PARA UTILIZAÇÃO DE FUNÇÕES SQL\n",
        "from pyspark.sql import SparkSession\n",
        "from pyspark.sql.functions import col\n",
        "\n",
        "#CRIAÇÃO DE DATAFRAME COM DADOS VERIFICADOS\n",
        "df_verificacao = df_Info_Alunos.join(df_Info_Escolas, df_Info_Alunos.NESCOLNOME == df_Info_Escolas.NESCOLNOME, \"inner\")\n",
        "df_verificacao.show(5)"
      ],
      "metadata": {
        "colab": {
          "base_uri": "https://localhost:8080/"
        },
        "id": "MsgJUeklg--q",
        "outputId": "25d5faa2-3e71-452e-bdbc-2fdaeee6fd31"
      },
      "execution_count": 44,
      "outputs": [
        {
          "output_type": "stream",
          "name": "stdout",
          "text": [
            "+----+------------+----------+------------+----------+----------+------+-------+---------+----------+------------------+-----+----------+--------+----------+----------+-----+----+--------------------+---+--------+----------------+----------+------------+--------+----------+----------+---------------+---------+--------+\n",
            "| ANO|  NESCOLNOME|EBAIRRNOME|  EESCOLRUAE|AESCOLNUME|CESCOLRPAE|MODENS|COMPENS|ANOENSINO|ESERMODESC|        NMODENNOME|TURMA|NTURESNOME|     MAT|CALUNOSEXO|DALUNONASC|IDADE|SITU|          ESITALDESC|rpa|tipo_cod|            tipo|cod_escola|  NESCOLNOME|    inep|qtd_alunos|qtd_turmas|qtd_professores|longitude|latitude|\n",
            "+----+------------+----------+------------+----------+----------+------+-------+---------+----------+------------------+-----+----------+--------+----------+----------+-----+----+--------------------+---+--------+----------------+----------+------------+--------+----------+----------+---------------+---------+--------+\n",
            "|2023|ABILIO GOMES|BOA VIAGEM|BRUNO VELOZO|       S/N|         6|     1|      0|   1º ANO|    1º ANO|ENSINO FUNDAMENTAL|    A|     MANHÃ|21646589|         M|10/05/2016|    7|  TA|   TR DUR ANO P/REDE|  6|       1|ESCOLA MUNICIPAL|       146|ABILIO GOMES|26124092|       313|        17|             11|-34.90688|-8.12097|\n",
            "|2023|ABILIO GOMES|BOA VIAGEM|BRUNO VELOZO|       S/N|         6|     1|      0|   1º ANO|    1º ANO|ENSINO FUNDAMENTAL|    B|     MANHÃ|19979797|         F|27/06/2015|    8|  TA|   TR DUR ANO P/REDE|  6|       1|ESCOLA MUNICIPAL|       146|ABILIO GOMES|26124092|       313|        17|             11|-34.90688|-8.12097|\n",
            "|2023|ABILIO GOMES|BOA VIAGEM|BRUNO VELOZO|       S/N|         6|     1|      1|   2º ANO|    2º ANO|ENSINO FUNDAMENTAL|    A|     MANHÃ|21097186|         F|13/02/2016|    7|  MO|          REMANEJADO|  6|       1|ESCOLA MUNICIPAL|       146|ABILIO GOMES|26124092|       313|        17|             11|-34.90688|-8.12097|\n",
            "|2023|ABILIO GOMES|BOA VIAGEM|BRUNO VELOZO|       S/N|         6|     1|      1|   2º ANO|    2º ANO|ENSINO FUNDAMENTAL|    A|     MANHÃ|20689047|         F|01/03/2016|    7|  TR|TR DUR ANO FORA REDE|  6|       1|ESCOLA MUNICIPAL|       146|ABILIO GOMES|26124092|       313|        17|             11|-34.90688|-8.12097|\n",
            "|2023|ABILIO GOMES|BOA VIAGEM|BRUNO VELOZO|       S/N|         6|     1|      1|   2º ANO|    2º ANO|ENSINO FUNDAMENTAL|    B|     TARDE|21025258|         M|14/01/2016|    7|  MO|          REMANEJADO|  6|       1|ESCOLA MUNICIPAL|       146|ABILIO GOMES|26124092|       313|        17|             11|-34.90688|-8.12097|\n",
            "+----+------------+----------+------------+----------+----------+------+-------+---------+----------+------------------+-----+----------+--------+----------+----------+-----+----+--------------------+---+--------+----------------+----------+------------+--------+----------+----------+---------------+---------+--------+\n",
            "only showing top 5 rows\n",
            "\n"
          ]
        }
      ]
    }
  ]
}